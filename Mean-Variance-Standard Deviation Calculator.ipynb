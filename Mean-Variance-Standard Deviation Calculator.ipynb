{
 "cells": [
  {
   "cell_type": "code",
   "execution_count": 7,
   "id": "f56447e5-b8ba-41e4-8ed2-be18cd5003f1",
   "metadata": {},
   "outputs": [],
   "source": [
    "import pandas as pd\n",
    "import numpy as np"
   ]
  },
  {
   "cell_type": "code",
   "execution_count": 9,
   "id": "0da0ed1d-f1e4-48fd-8c57-79ead0ba8072",
   "metadata": {},
   "outputs": [
    {
     "name": "stdout",
     "output_type": "stream",
     "text": [
      "{'mean': [[3.0, 4.0, 5.0], [1.0, 4.0, 7.0], 4.0], 'variance': [[6.0, 6.0, 6.0], [0.6666666666666666, 0.6666666666666666, 0.6666666666666666], 6.666666666666667], 'standard deviation': [[2.449489742783178, 2.449489742783178, 2.449489742783178], [0.816496580927726, 0.816496580927726, 0.816496580927726], 2.581988897471611], 'max': [[6, 7, 8], [2, 5, 8], 8], 'min': [[0, 1, 2], [0, 3, 6], 0], 'sum': [[9, 12, 15], [3, 12, 21], 36]}\n"
     ]
    }
   ],
   "source": [
    "import numpy as np\n",
    "\n",
    "def calculate(numbers):\n",
    "    if len(numbers) != 9:\n",
    "        raise ValueError(\"List must contain nine numbers.\")\n",
    "\n",
    "    # Convert the list to a 3x3 NumPy array\n",
    "    matrix = np.array(numbers).reshape(3, 3)\n",
    "\n",
    "    # Calculate statistics\n",
    "    calculations = {\n",
    "        'mean': [\n",
    "            np.mean(matrix, axis=0).tolist(),\n",
    "            np.mean(matrix, axis=1).tolist(),\n",
    "            np.mean(matrix).item()\n",
    "        ],\n",
    "        'variance': [\n",
    "            np.var(matrix, axis=0).tolist(),\n",
    "            np.var(matrix, axis=1).tolist(),\n",
    "            np.var(matrix).item()\n",
    "        ],\n",
    "        'standard deviation': [\n",
    "            np.std(matrix, axis=0).tolist(),\n",
    "            np.std(matrix, axis=1).tolist(),\n",
    "            np.std(matrix).item()\n",
    "        ],\n",
    "        'max': [\n",
    "            np.max(matrix, axis=0).tolist(),\n",
    "            np.max(matrix, axis=1).tolist(),\n",
    "            np.max(matrix).item()\n",
    "        ],\n",
    "        'min': [\n",
    "            np.min(matrix, axis=0).tolist(),\n",
    "            np.min(matrix, axis=1).tolist(),\n",
    "            np.min(matrix).item()\n",
    "        ],\n",
    "        'sum': [\n",
    "            np.sum(matrix, axis=0).tolist(),\n",
    "            np.sum(matrix, axis=1).tolist(),\n",
    "            np.sum(matrix).item()\n",
    "        ]\n",
    "    }\n",
    "\n",
    "    return calculations\n",
    "\n",
    "# Example usage:\n",
    "if __name__ == \"__main__\":\n",
    "    result = calculate([0, 1, 2, 3, 4, 5, 6, 7, 8])\n",
    "    print(result)"
   ]
  },
  {
   "cell_type": "code",
   "execution_count": null,
   "id": "6475e608-a26a-4ddd-bfe1-c20f3d8256ba",
   "metadata": {},
   "outputs": [],
   "source": []
  }
 ],
 "metadata": {
  "kernelspec": {
   "display_name": "Python [conda env:base] *",
   "language": "python",
   "name": "conda-base-py"
  },
  "language_info": {
   "codemirror_mode": {
    "name": "ipython",
    "version": 3
   },
   "file_extension": ".py",
   "mimetype": "text/x-python",
   "name": "python",
   "nbconvert_exporter": "python",
   "pygments_lexer": "ipython3",
   "version": "3.12.7"
  }
 },
 "nbformat": 4,
 "nbformat_minor": 5
}
